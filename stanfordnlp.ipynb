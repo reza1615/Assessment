{
 "cells": [
  {
   "cell_type": "code",
   "execution_count": 2,
   "metadata": {},
   "outputs": [],
   "source": [
    "import stanfordnlp"
   ]
  },
  {
   "cell_type": "code",
   "execution_count": 3,
   "metadata": {},
   "outputs": [
    {
     "name": "stdout",
     "output_type": "stream",
     "text": [
      "Use device: gpu\n",
      "---\n",
      "Loading: tokenize\n",
      "With settings: \n",
      "{'model_path': 'C:\\\\Users\\\\Reza\\\\stanfordnlp_resources\\\\fa_seraji_models\\\\fa_seraji_tokenizer.pt', 'lang': 'fa', 'shorthand': 'fa_seraji', 'mode': 'predict'}\n",
      "---\n",
      "Loading: mwt\n",
      "With settings: \n",
      "{'model_path': 'C:\\\\Users\\\\Reza\\\\stanfordnlp_resources\\\\fa_seraji_models\\\\fa_seraji_mwt_expander.pt', 'lang': 'fa', 'shorthand': 'fa_seraji', 'mode': 'predict'}\n",
      "Building an attentional Seq2Seq model...\n",
      "Using a Bi-LSTM encoder\n",
      "Using soft attention for LSTM.\n",
      "Finetune all embeddings.\n",
      "---\n",
      "Loading: pos\n",
      "With settings: \n",
      "{'model_path': 'C:\\\\Users\\\\Reza\\\\stanfordnlp_resources\\\\fa_seraji_models\\\\fa_seraji_tagger.pt', 'pretrain_path': 'C:\\\\Users\\\\Reza\\\\stanfordnlp_resources\\\\fa_seraji_models\\\\fa_seraji.pretrain.pt', 'lang': 'fa', 'shorthand': 'fa_seraji', 'mode': 'predict'}\n",
      "---\n",
      "Loading: lemma\n",
      "With settings: \n",
      "{'model_path': 'C:\\\\Users\\\\Reza\\\\stanfordnlp_resources\\\\fa_seraji_models\\\\fa_seraji_lemmatizer.pt', 'lang': 'fa', 'shorthand': 'fa_seraji', 'mode': 'predict'}\n",
      "Building an attentional Seq2Seq model...\n",
      "Using a Bi-LSTM encoder\n",
      "Using soft attention for LSTM.\n",
      "Finetune all embeddings.\n",
      "[Running seq2seq lemmatizer with edit classifier]\n",
      "---\n",
      "Loading: depparse\n",
      "With settings: \n",
      "{'model_path': 'C:\\\\Users\\\\Reza\\\\stanfordnlp_resources\\\\fa_seraji_models\\\\fa_seraji_parser.pt', 'pretrain_path': 'C:\\\\Users\\\\Reza\\\\stanfordnlp_resources\\\\fa_seraji_models\\\\fa_seraji.pretrain.pt', 'lang': 'fa', 'shorthand': 'fa_seraji', 'mode': 'predict'}\n",
      "Done loading processors!\n",
      "---\n"
     ]
    }
   ],
   "source": [
    "config = {\n",
    "    'processors': 'tokenize,mwt,pos,lemma,depparse', # Comma-separated list of processors to use\n",
    "    'lang': 'fa', # Language code for the language to build the Pipeline in\n",
    "}\n",
    "pipeline = stanfordnlp.Pipeline(**config)#lang='fa', use_gpu=True)"
   ]
  },
  {
   "cell_type": "code",
   "execution_count": 4,
   "metadata": {},
   "outputs": [
    {
     "data": {
      "text/plain": [
       "'Input: وقتی سر کار می\\u200cرفتند به علی گفته\\u200cبودند زمانی که شهر تهران شلوغ است رضا خانه رفت .'"
      ]
     },
     "execution_count": 4,
     "metadata": {},
     "output_type": "execute_result"
    }
   ],
   "source": [
    "example_sentences = {\"en\": \"Barack Obama was born in Hawaii.  He was elected president in 2008.\",\n",
    "            \"fa\": \"وقتی سر کار می‌رفتند به علی گفته‌بودند زمانی که شهر تهران شلوغ است رضا خانه رفت .\"}\n",
    "doc = pipeline(example_sentences['fa'])\n",
    "'Input: {}'.format(example_sentences['fa'])"
   ]
  },
  {
   "cell_type": "code",
   "execution_count": 5,
   "metadata": {},
   "outputs": [
    {
     "data": {
      "text/plain": [
       "'The tokenizer split the input into 1 sentences.'"
      ]
     },
     "execution_count": 5,
     "metadata": {},
     "output_type": "execute_result"
    }
   ],
   "source": [
    "\"The tokenizer split the input into {} sentences.\".format(len(doc.sentences))"
   ]
  },
  {
   "cell_type": "code",
   "execution_count": 6,
   "metadata": {},
   "outputs": [
    {
     "name": "stdout",
     "output_type": "stream",
     "text": [
      "<Token index=1;words=[<Word index=1;text=وقتی;lemma=وقتی;upos=SCONJ;xpos=CON;feats=_;governor=4;dependency_relation=mark>]>\n",
      "<Token index=2;words=[<Word index=2;text=سر;lemma=سر;upos=NOUN;xpos=N_SING;feats=Number=Sing;governor=4;dependency_relation=nsubj>]>\n",
      "<Token index=3;words=[<Word index=3;text=کار;lemma=کار;upos=NOUN;xpos=N_SING;feats=Number=Sing;governor=2;dependency_relation=nmod:poss>]>\n",
      "<Token index=4;words=[<Word index=4;text=می‌رفتند;upos=VERB;xpos=V_PA;feats=Number=Plur|Person=3|Tense=Past;governor=7;dependency_relation=advcl>]>\n",
      "<Token index=5;words=[<Word index=5;text=به;lemma=به;upos=ADP;xpos=P;feats=_;governor=6;dependency_relation=case>]>\n",
      "<Token index=6;words=[<Word index=6;text=علی;lemma=علی;upos=NOUN;xpos=N_SING;feats=Number=Sing;governor=7;dependency_relation=obl>]>\n",
      "<Token index=7;words=[<Word index=7;text=گفته‌بودند;lemma=گفت#گو;upos=VERB;xpos=V_PA;feats=Number=Plur|Person=3|Tense=Past;governor=0;dependency_relation=root>]>\n",
      "<Token index=8;words=[<Word index=8;text=زمانی;lemma=زمان;upos=NOUN;xpos=N_SING;feats=Number=Sing;governor=16;dependency_relation=obl>]>\n",
      "<Token index=9;words=[<Word index=9;text=که;lemma=که;upos=SCONJ;xpos=CON;feats=_;governor=12;dependency_relation=mark>]>\n",
      "<Token index=10;words=[<Word index=10;text=شهر;lemma=شهر;upos=NOUN;xpos=N_SING;feats=Number=Sing;governor=12;dependency_relation=nsubj>]>\n",
      "<Token index=11;words=[<Word index=11;text=تهران;lemma=تهران;upos=NOUN;xpos=N_SING;feats=Number=Sing;governor=10;dependency_relation=flat>]>\n",
      "<Token index=12;words=[<Word index=12;text=شلوغ;lemma=شلوغ;upos=ADJ;xpos=ADJ;feats=Degree=Pos;governor=8;dependency_relation=acl:relcl>]>\n",
      "<Token index=13;words=[<Word index=13;text=است;lemma=است;upos=AUX;xpos=V_PRS;feats=Number=Sing|Person=3|Tense=Pres;governor=12;dependency_relation=cop>]>\n",
      "<Token index=14;words=[<Word index=14;text=رضا;lemma=رضا;upos=NOUN;xpos=N_SING;feats=Number=Sing;governor=16;dependency_relation=obj>]>\n",
      "<Token index=15;words=[<Word index=15;text=خانه;lemma=خانه;upos=NOUN;xpos=N_SING;feats=Number=Sing;governor=14;dependency_relation=nmod:poss>]>\n",
      "<Token index=16;words=[<Word index=16;text=رفت;lemma=رفت#رو;upos=VERB;xpos=V_PA;feats=Number=Sing|Person=3|Tense=Past;governor=7;dependency_relation=ccomp>]>\n",
      "<Token index=17;words=[<Word index=17;text=.;lemma=.;upos=PUNCT;xpos=DELM;feats=_;governor=7;dependency_relation=punct>]>\n"
     ]
    }
   ],
   "source": [
    "doc.sentences[0].print_tokens()"
   ]
  },
  {
   "cell_type": "code",
   "execution_count": 24,
   "metadata": {},
   "outputs": [
    {
     "name": "stdout",
     "output_type": "stream",
     "text": [
      "('وقتی', '4', 'mark')\n",
      "('سر', '4', 'nsubj')\n",
      "('کار', '2', 'nmod:poss')\n",
      "('می\\u200cرفتند', '7', 'advcl')\n",
      "('به', '6', 'case')\n",
      "('علی', '7', 'obl')\n",
      "('گفته\\u200cبودند', '0', 'root')\n",
      "('زمانی', '16', 'obl')\n",
      "('که', '12', 'mark')\n",
      "('شهر', '12', 'nsubj')\n",
      "('تهران', '10', 'flat')\n",
      "('شلوغ', '8', 'acl:relcl')\n",
      "('است', '12', 'cop')\n",
      "('رضا', '16', 'obj')\n",
      "('خانه', '14', 'nmod:poss')\n",
      "('رفت', '7', 'ccomp')\n",
      "('.', '7', 'punct')\n"
     ]
    }
   ],
   "source": [
    "doc.sentences[0].print_dependencies()"
   ]
  },
  {
   "cell_type": "code",
   "execution_count": 26,
   "metadata": {},
   "outputs": [
    {
     "name": "stdout",
     "output_type": "stream",
     "text": [
      "1\tوقتی\tوقتی\tSCONJ\tCON\t_\t4\tmark\t_\t_\n",
      "2\tسر\tسر\tNOUN\tN_SING\tNumber=Sing\t4\tnsubj\t_\t_\n",
      "3\tکار\tکار\tNOUN\tN_SING\tNumber=Sing\t2\tnmod:poss\t_\t_\n",
      "4\tمی‌رفتند\t_\tVERB\tV_PA\tNumber=Plur|Person=3|Tense=Past\t7\tadvcl\t_\t_\n",
      "5\tبه\tبه\tADP\tP\t_\t6\tcase\t_\t_\n",
      "6\tعلی\tعلی\tNOUN\tN_SING\tNumber=Sing\t7\tobl\t_\t_\n",
      "7\tگفته‌بودند\tگفت#گو\tVERB\tV_PA\tNumber=Plur|Person=3|Tense=Past\t0\troot\t_\t_\n",
      "8\tزمانی\tزمان\tNOUN\tN_SING\tNumber=Sing\t16\tobl\t_\t_\n",
      "9\tکه\tکه\tSCONJ\tCON\t_\t12\tmark\t_\t_\n",
      "10\tشهر\tشهر\tNOUN\tN_SING\tNumber=Sing\t12\tnsubj\t_\t_\n",
      "11\tتهران\tتهران\tNOUN\tN_SING\tNumber=Sing\t10\tflat\t_\t_\n",
      "12\tشلوغ\tشلوغ\tADJ\tADJ\tDegree=Pos\t8\tacl:relcl\t_\t_\n",
      "13\tاست\tاست\tAUX\tV_PRS\tNumber=Sing|Person=3|Tense=Pres\t12\tcop\t_\t_\n",
      "14\tرضا\tرضا\tNOUN\tN_SING\tNumber=Sing\t16\tobj\t_\t_\n",
      "15\tخانه\tخانه\tNOUN\tN_SING\tNumber=Sing\t14\tnmod:poss\t_\t_\n",
      "16\tرفت\tرفت#رو\tVERB\tV_PA\tNumber=Sing|Person=3|Tense=Past\t7\tccomp\t_\t_\n",
      "17\t.\t.\tPUNCT\tDELM\t_\t7\tpunct\t_\t_\n",
      "\n",
      "\n"
     ]
    }
   ],
   "source": [
    "print(doc.conll_file.conll_as_string())"
   ]
  },
  {
   "cell_type": "code",
   "execution_count": 28,
   "metadata": {},
   "outputs": [
    {
     "ename": "AttributeError",
     "evalue": "'Sentence' object has no attribute 'token'",
     "output_type": "error",
     "traceback": [
      "\u001b[1;31m---------------------------------------------------------------------------\u001b[0m",
      "\u001b[1;31mAttributeError\u001b[0m                            Traceback (most recent call last)",
      "\u001b[1;32m<ipython-input-28-b49f0e411f9a>\u001b[0m in \u001b[0;36m<module>\u001b[1;34m()\u001b[0m\n\u001b[0;32m      1\u001b[0m \u001b[0msentence\u001b[0m \u001b[1;33m=\u001b[0m \u001b[0mdoc\u001b[0m\u001b[1;33m.\u001b[0m\u001b[0msentences\u001b[0m\u001b[1;33m[\u001b[0m\u001b[1;36m0\u001b[0m\u001b[1;33m]\u001b[0m\u001b[1;33m\u001b[0m\u001b[0m\n\u001b[1;32m----> 2\u001b[1;33m \u001b[0msentence\u001b[0m\u001b[1;33m.\u001b[0m\u001b[0mtoken\u001b[0m\u001b[1;33m\u001b[0m\u001b[0m\n\u001b[0m",
      "\u001b[1;31mAttributeError\u001b[0m: 'Sentence' object has no attribute 'token'"
     ]
    }
   ],
   "source": [
    "sentence = doc.sentences[0]\n",
    "sentence.token"
   ]
  },
  {
   "cell_type": "markdown",
   "metadata": {},
   "source": [
    "# More resources"
   ]
  },
  {
   "cell_type": "markdown",
   "metadata": {},
   "source": [
    "The only source code for other function is in the below URL\n",
    "\n",
    "https://github.com/stanfordnlp/stanfordnlp/blob/master/tests/test_protobuf.py"
   ]
  },
  {
   "cell_type": "code",
   "execution_count": null,
   "metadata": {},
   "outputs": [],
   "source": []
  }
 ],
 "metadata": {
  "kernelspec": {
   "display_name": "Python 3",
   "language": "python",
   "name": "python3"
  },
  "language_info": {
   "codemirror_mode": {
    "name": "ipython",
    "version": 3
   },
   "file_extension": ".py",
   "mimetype": "text/x-python",
   "name": "python",
   "nbconvert_exporter": "python",
   "pygments_lexer": "ipython3",
   "version": "3.6.5"
  }
 },
 "nbformat": 4,
 "nbformat_minor": 2
}
